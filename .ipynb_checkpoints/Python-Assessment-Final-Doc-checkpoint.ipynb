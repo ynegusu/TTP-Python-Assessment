{
 "cells": [
  {
   "cell_type": "code",
   "execution_count": null,
   "metadata": {},
   "outputs": [],
   "source": [
    "''' #1\n",
    "Write a function called 'addBetween'.\n",
    "\n",
    "Given 2 integers, \"addBetween\" returns the sum \n",
    "of all numbers between the two given integers, \n",
    "beginning at num1, and excluding num2.\n",
    "\n",
    "\n",
    "If num2 is not greater than num1, the function should return 0.\n",
    "output = addBetween(3, 7)\n",
    "print(output) # --> 18\n",
    "'''"
   ]
  },
  {
   "cell_type": "code",
   "execution_count": 12,
   "metadata": {},
   "outputs": [
    {
     "ename": "SyntaxError",
     "evalue": "EOF while scanning triple-quoted string literal (<ipython-input-12-21925849040f>, line 11)",
     "output_type": "error",
     "traceback": [
      "\u001b[0;36m  File \u001b[0;32m\"<ipython-input-12-21925849040f>\"\u001b[0;36m, line \u001b[0;32m11\u001b[0m\n\u001b[0;31m    print(output) # -> ['a','b','c','d','e','f', 'g']\u001b[0m\n\u001b[0m                                                     \n^\u001b[0m\n\u001b[0;31mSyntaxError\u001b[0m\u001b[0;31m:\u001b[0m EOF while scanning triple-quoted string literal\n"
     ]
    }
   ],
   "source": [
    "''' #2\n",
    "write a function called 'combine'\n",
    "\n",
    "Given two lists, combine returns a new list\n",
    "with all elements of both lists, sorted\n",
    "\n",
    "lst1 = ['b', 'c','a','f']\n",
    "lst2 = ['d','e','g']\n",
    "\n",
    "output = combine(lst1,lst2)\n",
    "print(output) # -> ['a','b','c','d','e','f', 'g']"
   ]
  },
  {
   "cell_type": "code",
   "execution_count": 58,
   "metadata": {},
   "outputs": [],
   "source": [
    "lst1 = ['b', 'c','a','f']\n",
    "lst2 = ['d','e','g']\n",
    "def combine(lst1,lst2):\n",
    "    for combine_lst.sorted()\n",
    "    print(combine_lst)"
   ]
  },
  {
   "cell_type": "code",
   "execution_count": null,
   "metadata": {},
   "outputs": [],
   "source": [
    "''' #3\n",
    "write a function called 'switch'\n",
    "Given a dictionary, the function switch returns a new dictionary\n",
    "with the keys and values reversed\n",
    "\n",
    "d = {'cat': 1, 'dog':2, 'parrot':3, 'raptor':4, 'snake':5}\n",
    "output = switch(d)\n",
    "print(output) # -> {1:'cat', 2:'dog', 3:'parrot', 4:'raptor', 5:'snake'}\n",
    "\n",
    "'''"
   ]
  },
  {
   "cell_type": "code",
   "execution_count": 88,
   "metadata": {},
   "outputs": [
    {
     "name": "stdout",
     "output_type": "stream",
     "text": [
      "keys: {'cat', 'parrot', 'dog', 'raptor', 'snake'}\n"
     ]
    }
   ],
   "source": [
    "d = {'cat': 1, 'dog':2, 'parrot':3, 'raptor':4, 'snake':5}\n",
    "print('keys:',(set(d.keys())))"
   ]
  },
  {
   "cell_type": "code",
   "execution_count": 91,
   "metadata": {},
   "outputs": [
    {
     "ename": "SyntaxError",
     "evalue": "invalid syntax (<ipython-input-91-df63f03affd5>, line 2)",
     "output_type": "error",
     "traceback": [
      "\u001b[0;36m  File \u001b[0;32m\"<ipython-input-91-df63f03affd5>\"\u001b[0;36m, line \u001b[0;32m2\u001b[0m\n\u001b[0;31m    def switch(d)\u001b[0m\n\u001b[0m                 ^\u001b[0m\n\u001b[0;31mSyntaxError\u001b[0m\u001b[0;31m:\u001b[0m invalid syntax\n"
     ]
    }
   ],
   "source": [
    "d = {'cat': 1, 'dog':2, 'parrot':3, 'raptor':4, 'snake':5}\n",
    "def switch(d)\n",
    "swich = (key)\n",
    "for switch keys ,values\n",
    "print(d)\n"
   ]
  },
  {
   "cell_type": "code",
   "execution_count": null,
   "metadata": {},
   "outputs": [],
   "source": [
    "''' #4\n",
    "Write a function called 'isSameLength'.\n",
    "\n",
    "Given two words, \"isSameLength\" returns whether the given \n",
    "words have the same length.\n",
    "\n",
    "output = isSameLength('words', 'super')\n",
    "print(output) # --> True\n",
    "'''"
   ]
  },
  {
   "cell_type": "code",
   "execution_count": 69,
   "metadata": {},
   "outputs": [
    {
     "ename": "SyntaxError",
     "evalue": "invalid syntax (<ipython-input-69-5ba53605338d>, line 1)",
     "output_type": "error",
     "traceback": [
      "\u001b[0;36m  File \u001b[0;32m\"<ipython-input-69-5ba53605338d>\"\u001b[0;36m, line \u001b[0;32m1\u001b[0m\n\u001b[0;31m    def isSameLength()\u001b[0m\n\u001b[0m                      ^\u001b[0m\n\u001b[0;31mSyntaxError\u001b[0m\u001b[0;31m:\u001b[0m invalid syntax\n"
     ]
    }
   ],
   "source": [
    "def isSameLength()\n",
    "for isSameLengt('words', 'super') \n",
    " if len(words) ==  len(super):\n",
    "print('true')\n"
   ]
  },
  {
   "cell_type": "code",
   "execution_count": null,
   "metadata": {},
   "outputs": [],
   "source": [
    "''' #5\n",
    "write a function called 'stringToWords'\n",
    "given a string with two sentences, stringToWords\n",
    "separate the sentences into two lists of words, one for each sentence.\n",
    "\n",
    "string1 = \"This was a sentence. And it's now a list.\"\n",
    "output = stringToWords(string1)\n",
    "print(output) ->  ['This', 'was', 'a', 'sentence'],['And', \"it's\", 'now', 'a', 'list']\n",
    "\n",
    "'''"
   ]
  },
  {
   "cell_type": "code",
   "execution_count": null,
   "metadata": {},
   "outputs": [],
   "source": [
    "string1 = \"This was a sentence. And it's now a list.\"\n",
    "output = stringToWords(string1)\n",
    "print(output) ->  ['This', 'was', 'a', 'sentence'],['And', \"it's\", 'now', 'a', 'list']\n",
    "\n",
    "def stringToWords()\n",
    "for string1 in split()\n"
   ]
  },
  {
   "cell_type": "code",
   "execution_count": null,
   "metadata": {},
   "outputs": [],
   "source": [
    "''' #6\n",
    "write a function called 'bigSixSmall'\n",
    "\n",
    "given a list of numbers, bigSixSmall returns a new list:\n",
    "if the number from the list is > 6, the new list should have \"Big\" in it\n",
    "if the number from the list is 6, the new list should have \"Six\" in it\n",
    "if the number from the list is < 6, the list should say \"Small\"\n",
    "\n",
    "list1 = [1,7,2,6,13]\n",
    "\n",
    "output = bigSixSmall(list1)\n",
    "print(output)  #-> ['Small', 'Big', 'Small', 'Six', 'Big' ] \n",
    "'''\n",
    "\n"
   ]
  },
  {
   "cell_type": "code",
   "execution_count": null,
   "metadata": {},
   "outputs": [],
   "source": [
    "''' #7\n",
    "Write a function called 'select'.\n",
    "\n",
    "Given list and a dictionary, \"select\" returns a new dictionary\n",
    "whose keys are those in the given dictionary which are present \n",
    "in the given list.\n",
    "\n",
    "Notes:\n",
    "\n",
    "If keys are present in the given list, but are not in the given \n",
    "dictionary, it should ignore them.\n",
    "It does not modify the passed in dictionary.\n",
    "input_list = ['a', 'c', 'e']\n",
    "input_dict = {'a': 1, 'b': 2, 'c': 3, 'd': 4}\n",
    "\n",
    "output = select(input_list, input_dict)\n",
    "print(output) # --> {'a': 1, 'c': 3}\n",
    "\n",
    "print(input_dict) # --> {'a': 1, 'b': 2, 'c': 3, 'd': 4}\n",
    "'''"
   ]
  },
  {
   "cell_type": "code",
   "execution_count": null,
   "metadata": {},
   "outputs": [],
   "source": [
    "''' #8\n",
    "Write a function called 'to_dictionary' that takes in\n",
    "a list of numbers as input\n",
    "and returns a dictionary.\n",
    "\n",
    "The keys should be each number from the input list,\n",
    "and the values should be \n",
    "True if the number is even \n",
    "or False if the number is odd\n",
    "\n",
    "output = to_dictionary([3,6,9,12,15])\n",
    "print(output) -->  {3:False, 6:True, 9:False, 12:True, 15:False}\n",
    "'''"
   ]
  }
 ],
 "metadata": {
  "kernelspec": {
   "display_name": "Python 3",
   "language": "python",
   "name": "python3"
  },
  "language_info": {
   "codemirror_mode": {
    "name": "ipython",
    "version": 3
   },
   "file_extension": ".py",
   "mimetype": "text/x-python",
   "name": "python",
   "nbconvert_exporter": "python",
   "pygments_lexer": "ipython3",
   "version": "3.7.3"
  }
 },
 "nbformat": 4,
 "nbformat_minor": 2
}
